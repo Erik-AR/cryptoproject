{
 "cells": [
  {
   "cell_type": "code",
   "execution_count": 2,
   "metadata": {
    "collapsed": true
   },
   "outputs": [],
   "source": [
    "# Dependencies\n",
    "import matplotlib.pyplot as plt\n",
    "import numpy as np\n",
    "import pandas as pd\n",
    "import matplotlib.pyplot as plt\n",
    "%matplotlib inline"
   ]
  },
  {
   "cell_type": "code",
   "execution_count": 3,
   "metadata": {
    "collapsed": true
   },
   "outputs": [],
   "source": [
    "# Read CSV for 1q of cryptocurrency \n",
    "cc_data = pd.read_csv(\"filteredData.csv\")\n",
    "\n",
    "\n"
   ]
  },
  {
   "cell_type": "code",
   "execution_count": 4,
   "metadata": {},
   "outputs": [
    {
     "data": {
      "text/plain": [
       "Index(['date', 'symbol', 'volume', 'open', 'close', 'change', '%change'], dtype='object')"
      ]
     },
     "execution_count": 4,
     "metadata": {},
     "output_type": "execute_result"
    }
   ],
   "source": [
    "#Create df\n",
    "columns = ['date','symbol', 'volume','open', 'close','change']\n",
    "df = pd.DataFrame(columns= columns)\n",
    "df['date'] = cc_data['date']\n",
    "df['symbol']=cc_data['symbol']\n",
    "df['open']=cc_data['open']\n",
    "df['close']=cc_data['close']\n",
    "df['volume']=cc_data['volume']\n",
    "df['change']=cc_data['open'] - cc_data['close']\n",
    "df['%change'] = df['change']/cc_data['open']*100\n",
    "\n",
    "df.head()\n",
    "df.keys()"
   ]
  },
  {
   "cell_type": "code",
   "execution_count": null,
   "metadata": {
    "collapsed": true
   },
   "outputs": [],
   "source": []
  },
  {
   "cell_type": "code",
   "execution_count": null,
   "metadata": {
    "collapsed": true
   },
   "outputs": [],
   "source": []
  },
  {
   "cell_type": "code",
   "execution_count": 5,
   "metadata": {},
   "outputs": [
    {
     "data": {
      "text/html": [
       "<div>\n",
       "<style>\n",
       "    .dataframe thead tr:only-child th {\n",
       "        text-align: right;\n",
       "    }\n",
       "\n",
       "    .dataframe thead th {\n",
       "        text-align: left;\n",
       "    }\n",
       "\n",
       "    .dataframe tbody tr th {\n",
       "        vertical-align: top;\n",
       "    }\n",
       "</style>\n",
       "<table border=\"1\" class=\"dataframe\">\n",
       "  <thead>\n",
       "    <tr style=\"text-align: right;\">\n",
       "      <th></th>\n",
       "      <th>date</th>\n",
       "      <th>symbol</th>\n",
       "      <th>volume</th>\n",
       "      <th>open</th>\n",
       "      <th>close</th>\n",
       "      <th>change</th>\n",
       "      <th>%change</th>\n",
       "    </tr>\n",
       "  </thead>\n",
       "  <tbody>\n",
       "    <tr>\n",
       "      <th>4</th>\n",
       "      <td>1/5/18</td>\n",
       "      <td>BTC</td>\n",
       "      <td>2.384090e+10</td>\n",
       "      <td>15477.20</td>\n",
       "      <td>17429.50</td>\n",
       "      <td>-1952.30</td>\n",
       "      <td>-12.614039</td>\n",
       "    </tr>\n",
       "    <tr>\n",
       "      <th>10</th>\n",
       "      <td>1/11/18</td>\n",
       "      <td>BTC</td>\n",
       "      <td>1.653410e+10</td>\n",
       "      <td>14968.20</td>\n",
       "      <td>13405.80</td>\n",
       "      <td>1562.40</td>\n",
       "      <td>10.438129</td>\n",
       "    </tr>\n",
       "    <tr>\n",
       "      <th>15</th>\n",
       "      <td>1/16/18</td>\n",
       "      <td>BTC</td>\n",
       "      <td>1.885380e+10</td>\n",
       "      <td>13836.10</td>\n",
       "      <td>11490.50</td>\n",
       "      <td>2345.60</td>\n",
       "      <td>16.952754</td>\n",
       "    </tr>\n",
       "    <tr>\n",
       "      <th>19</th>\n",
       "      <td>1/20/18</td>\n",
       "      <td>BTC</td>\n",
       "      <td>1.180170e+10</td>\n",
       "      <td>11656.20</td>\n",
       "      <td>12899.20</td>\n",
       "      <td>-1243.00</td>\n",
       "      <td>-10.663853</td>\n",
       "    </tr>\n",
       "    <tr>\n",
       "      <th>20</th>\n",
       "      <td>1/21/18</td>\n",
       "      <td>BTC</td>\n",
       "      <td>9.935180e+09</td>\n",
       "      <td>12889.20</td>\n",
       "      <td>11600.10</td>\n",
       "      <td>1289.10</td>\n",
       "      <td>10.001397</td>\n",
       "    </tr>\n",
       "    <tr>\n",
       "      <th>29</th>\n",
       "      <td>1/30/18</td>\n",
       "      <td>BTC</td>\n",
       "      <td>8.637860e+09</td>\n",
       "      <td>11306.80</td>\n",
       "      <td>10106.30</td>\n",
       "      <td>1200.50</td>\n",
       "      <td>10.617505</td>\n",
       "    </tr>\n",
       "    <tr>\n",
       "      <th>31</th>\n",
       "      <td>2/1/18</td>\n",
       "      <td>BTC</td>\n",
       "      <td>9.959400e+09</td>\n",
       "      <td>10237.30</td>\n",
       "      <td>9170.54</td>\n",
       "      <td>1066.76</td>\n",
       "      <td>10.420326</td>\n",
       "    </tr>\n",
       "    <tr>\n",
       "      <th>35</th>\n",
       "      <td>2/5/18</td>\n",
       "      <td>BTC</td>\n",
       "      <td>9.285290e+09</td>\n",
       "      <td>8270.54</td>\n",
       "      <td>6955.27</td>\n",
       "      <td>1315.27</td>\n",
       "      <td>15.903073</td>\n",
       "    </tr>\n",
       "    <tr>\n",
       "      <th>44</th>\n",
       "      <td>2/14/18</td>\n",
       "      <td>BTC</td>\n",
       "      <td>7.909820e+09</td>\n",
       "      <td>8599.92</td>\n",
       "      <td>9494.63</td>\n",
       "      <td>-894.71</td>\n",
       "      <td>-10.403701</td>\n",
       "    </tr>\n",
       "    <tr>\n",
       "      <th>72</th>\n",
       "      <td>3/14/18</td>\n",
       "      <td>BTC</td>\n",
       "      <td>6.438230e+09</td>\n",
       "      <td>9214.65</td>\n",
       "      <td>8269.81</td>\n",
       "      <td>944.84</td>\n",
       "      <td>10.253672</td>\n",
       "    </tr>\n",
       "  </tbody>\n",
       "</table>\n",
       "</div>"
      ],
      "text/plain": [
       "       date symbol        volume      open     close   change    %change\n",
       "4    1/5/18    BTC  2.384090e+10  15477.20  17429.50 -1952.30 -12.614039\n",
       "10  1/11/18    BTC  1.653410e+10  14968.20  13405.80  1562.40  10.438129\n",
       "15  1/16/18    BTC  1.885380e+10  13836.10  11490.50  2345.60  16.952754\n",
       "19  1/20/18    BTC  1.180170e+10  11656.20  12899.20 -1243.00 -10.663853\n",
       "20  1/21/18    BTC  9.935180e+09  12889.20  11600.10  1289.10  10.001397\n",
       "29  1/30/18    BTC  8.637860e+09  11306.80  10106.30  1200.50  10.617505\n",
       "31   2/1/18    BTC  9.959400e+09  10237.30   9170.54  1066.76  10.420326\n",
       "35   2/5/18    BTC  9.285290e+09   8270.54   6955.27  1315.27  15.903073\n",
       "44  2/14/18    BTC  7.909820e+09   8599.92   9494.63  -894.71 -10.403701\n",
       "72  3/14/18    BTC  6.438230e+09   9214.65   8269.81   944.84  10.253672"
      ]
     },
     "execution_count": 5,
     "metadata": {},
     "output_type": "execute_result"
    }
   ],
   "source": [
    "#make df for BTC major fluctuations\n",
    "#identify fluctuations >10%, as heads up for twitter sentiment analysis\n",
    "df_btc = df[df['%change'].abs()>=10]\n",
    "df_filtered = df_btc[df_btc['symbol']=='BTC']\n",
    "df_filtered"
   ]
  },
  {
   "cell_type": "code",
   "execution_count": 7,
   "metadata": {},
   "outputs": [
    {
     "data": {
      "image/png": "[encoded data removed]",
      "text/plain": [
       "<matplotlib.figure.Figure at 0x22fccc91cc0>"
      ]
     },
     "metadata": {},
     "output_type": "display_data"
    }
   ],
   "source": [
    "#Visualize major fluct dates\n",
    "plt.bar(df_filtered['date'], df_filtered['%change'],width = 0.3)\n",
    "plt.xticks(rotation=90)\n",
    "plt.savefig('important_dates.png')"
   ]
  },
  {
   "cell_type": "code",
   "execution_count": 130,
   "metadata": {
    "collapsed": true
   },
   "outputs": [],
   "source": [
    "\n",
    "\n",
    "\n"
   ]
  },
  {
   "cell_type": "code",
   "execution_count": null,
   "metadata": {
    "collapsed": true
   },
   "outputs": [],
   "source": []
  },
  {
   "cell_type": "code",
   "execution_count": null,
   "metadata": {
    "collapsed": true
   },
   "outputs": [],
   "source": []
  }
 ],
 "metadata": {
  "kernelspec": {
   "display_name": "Python [conda env:PythonData]",
   "language": "python",
   "name": "conda-env-PythonData-py"
  },
  "language_info": {
   "codemirror_mode": {
    "name": "ipython",
    "version": 3
   },
   "file_extension": ".py",
   "mimetype": "text/x-python",
   "name": "python",
   "nbconvert_exporter": "python",
   "pygments_lexer": "ipython3",
   "version": "3.6.3"
  }
 },
 "nbformat": 4,
 "nbformat_minor": 2
}

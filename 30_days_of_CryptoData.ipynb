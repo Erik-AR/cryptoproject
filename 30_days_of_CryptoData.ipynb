{
 "cells": [
  {
   "cell_type": "code",
   "execution_count": 2,
   "metadata": {
    "collapsed": true
   },
   "outputs": [],
   "source": [
    "# Dependencies\n",
    "\n",
    "import requests\n",
    "import datetime\n",
    "import pandas as pd\n",
    "import matplotlib.pyplot as plt\n",
    "\n",
    "#import json\n",
    "#import requests"
   ]
  },
  {
   "cell_type": "code",
   "execution_count": 3,
   "metadata": {
    "collapsed": true
   },
   "outputs": [],
   "source": [
    "def daily_price_historical(symbol, comparison_symbol, all_data=True, limit=1, aggregate=1, exchange=''):\n",
    "    url = 'https://min-api.cryptocompare.com/data/histoday?fsym={}&tsym={}&limit={}&aggregate={}'\\\n",
    "            .format(symbol.upper(), comparison_symbol.upper(), limit, aggregate)\n",
    "    if exchange:\n",
    "        url += '&e={}'.format(exchange)\n",
    "    if all_data:\n",
    "        url += '&allData=true'\n",
    "    page = requests.get(url)\n",
    "    data = page.json()['Data']\n",
    "    df = pd.DataFrame(data)\n",
    "    df['timestamp'] = [datetime.datetime.fromtimestamp(d) for d in df.time]\n",
    "    return df"
   ]
  },
  {
   "cell_type": "code",
   "execution_count": 38,
   "metadata": {},
   "outputs": [
    {
     "name": "stdout",
     "output_type": "stream",
     "text": [
      "Max length = 2821\n",
      "Max time = 2820 days 00:00:00\n"
     ]
    },
    {
     "name": "stderr",
     "output_type": "stream",
     "text": [
      "C:\\Users\\erikr\\Anaconda3\\envs\\PythonData\\lib\\site-packages\\ipykernel\\__main__.py:6: UserWarning: Boolean Series key will be reindexed to match DataFrame index.\n"
     ]
    },
    {
     "data": {
      "text/html": [
       "<div>\n",
       "<style>\n",
       "    .dataframe thead tr:only-child th {\n",
       "        text-align: right;\n",
       "    }\n",
       "\n",
       "    .dataframe thead th {\n",
       "        text-align: left;\n",
       "    }\n",
       "\n",
       "    .dataframe tbody tr th {\n",
       "        vertical-align: top;\n",
       "    }\n",
       "</style>\n",
       "<table border=\"1\" class=\"dataframe\">\n",
       "  <thead>\n",
       "    <tr style=\"text-align: right;\">\n",
       "      <th></th>\n",
       "      <th>close</th>\n",
       "      <th>high</th>\n",
       "      <th>low</th>\n",
       "      <th>open</th>\n",
       "      <th>time</th>\n",
       "      <th>volumefrom</th>\n",
       "      <th>volumeto</th>\n",
       "      <th>timestamp</th>\n",
       "    </tr>\n",
       "  </thead>\n",
       "  <tbody>\n",
       "    <tr>\n",
       "      <th>2726</th>\n",
       "      <td>14754.13</td>\n",
       "      <td>15306.13</td>\n",
       "      <td>12934.16</td>\n",
       "      <td>13444.88</td>\n",
       "      <td>1514851200</td>\n",
       "      <td>137732.17</td>\n",
       "      <td>1.956783e+09</td>\n",
       "      <td>2018-01-01 16:00:00</td>\n",
       "    </tr>\n",
       "    <tr>\n",
       "      <th>2727</th>\n",
       "      <td>15156.62</td>\n",
       "      <td>15435.01</td>\n",
       "      <td>14579.71</td>\n",
       "      <td>14754.09</td>\n",
       "      <td>1514937600</td>\n",
       "      <td>106543.39</td>\n",
       "      <td>1.604207e+09</td>\n",
       "      <td>2018-01-02 16:00:00</td>\n",
       "    </tr>\n",
       "    <tr>\n",
       "      <th>2728</th>\n",
       "      <td>15180.08</td>\n",
       "      <td>15408.66</td>\n",
       "      <td>14244.67</td>\n",
       "      <td>15156.49</td>\n",
       "      <td>1515024000</td>\n",
       "      <td>110968.82</td>\n",
       "      <td>1.656715e+09</td>\n",
       "      <td>2018-01-03 16:00:00</td>\n",
       "    </tr>\n",
       "    <tr>\n",
       "      <th>2729</th>\n",
       "      <td>16954.78</td>\n",
       "      <td>17126.95</td>\n",
       "      <td>14832.36</td>\n",
       "      <td>15180.08</td>\n",
       "      <td>1515110400</td>\n",
       "      <td>141960.42</td>\n",
       "      <td>2.283989e+09</td>\n",
       "      <td>2018-01-04 16:00:00</td>\n",
       "    </tr>\n",
       "    <tr>\n",
       "      <th>2730</th>\n",
       "      <td>17172.30</td>\n",
       "      <td>17252.85</td>\n",
       "      <td>16286.57</td>\n",
       "      <td>16954.76</td>\n",
       "      <td>1515196800</td>\n",
       "      <td>83927.99</td>\n",
       "      <td>1.412704e+09</td>\n",
       "      <td>2018-01-05 16:00:00</td>\n",
       "    </tr>\n",
       "  </tbody>\n",
       "</table>\n",
       "</div>"
      ],
      "text/plain": [
       "         close      high       low      open        time  volumefrom  \\\n",
       "2726  14754.13  15306.13  12934.16  13444.88  1514851200   137732.17   \n",
       "2727  15156.62  15435.01  14579.71  14754.09  1514937600   106543.39   \n",
       "2728  15180.08  15408.66  14244.67  15156.49  1515024000   110968.82   \n",
       "2729  16954.78  17126.95  14832.36  15180.08  1515110400   141960.42   \n",
       "2730  17172.30  17252.85  16286.57  16954.76  1515196800    83927.99   \n",
       "\n",
       "          volumeto           timestamp  \n",
       "2726  1.956783e+09 2018-01-01 16:00:00  \n",
       "2727  1.604207e+09 2018-01-02 16:00:00  \n",
       "2728  1.656715e+09 2018-01-03 16:00:00  \n",
       "2729  2.283989e+09 2018-01-04 16:00:00  \n",
       "2730  1.412704e+09 2018-01-05 16:00:00  "
      ]
     },
     "execution_count": 38,
     "metadata": {},
     "output_type": "execute_result"
    }
   ],
   "source": [
    "df = daily_price_historical('BTC', 'USD')\n",
    "print('Max length = %s' % len(df))\n",
    "print('Max time = %s' % (df.timestamp.max() -df.timestamp.min()))\n",
    "\n",
    "\n",
    "df_jan = df[df.timestamp>'20180101'][df.timestamp<'20180201']\n",
    "df_jan.head()"
   ]
  },
  {
   "cell_type": "code",
   "execution_count": 36,
   "metadata": {},
   "outputs": [
    {
     "data": {
      "image/png": "[encoded data removed]",
      "text/plain": [
       "<matplotlib.figure.Figure at 0x1485a38aa90>"
      ]
     },
     "metadata": {},
     "output_type": "display_data"
    }
   ],
   "source": [
    "#plt.plot(df.timestamp, df.close)\n",
    "plt.plot(df_jan.timestamp, df_jan.close)\n",
    "plt.title(\"31 Days Closing Price of BitCoin\")\n",
    "plt.xticks(rotation=45)\n",
    "plt.show()\n",
    "plt.savefig('BTC_price_January.png')\n"
   ]
  },
  {
   "cell_type": "code",
   "execution_count": null,
   "metadata": {
    "collapsed": true
   },
   "outputs": [],
   "source": [
    "#make df for BTC major fluctuations\n",
    "#identify fluctuations >10%, as heads up for twitter sentiment analysis\n"
   ]
  }
 ],
 "metadata": {
  "kernelspec": {
   "display_name": "Python [conda env:PythonData]",
   "language": "python",
   "name": "conda-env-PythonData-py"
  },
  "language_info": {
   "codemirror_mode": {
    "name": "ipython",
    "version": 3
   },
   "file_extension": ".py",
   "mimetype": "text/x-python",
   "name": "python",
   "nbconvert_exporter": "python",
   "pygments_lexer": "ipython3",
   "version": "3.6.3"
  }
 },
 "nbformat": 4,
 "nbformat_minor": 2
}

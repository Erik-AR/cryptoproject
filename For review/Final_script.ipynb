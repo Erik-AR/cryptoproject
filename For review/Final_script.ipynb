{
 "cells": [
  {
   "cell_type": "code",
   "execution_count": 62,
   "metadata": {},
   "outputs": [],
   "source": [
    "# Dependencies\n",
    "import json\n",
    "import pandas as pd\n",
    "import numpy as np\n",
    "import csv\n",
    "import requests\n",
    "from vaderSentiment.vaderSentiment import SentimentIntensityAnalyzer\n",
    "analyzer = SentimentIntensityAnalyzer()\n",
    "from  textblob import TextBlob\n",
    "import matplotlib.pyplot as plt\n",
    "import datetime\n",
    "\n",
    "\n",
    "# # Twitter API Keys \n",
    "# consumer_key = \"yUHOWwWG9Pj3C8f21tnm4rWOb\"\n",
    "# consumer_secret = \"JowHOFRinCn2DOOd7ZP8ToHkU83piXhZ0ZPUopHTW7grDS0XPI\"\n",
    "# access_token = \"975055841089867776-GRHdjTQ4NuqwZNfevh4L54bxNgiw1Hu\"\n",
    "# access_token_secret = \"nR7n7Qp5lduLHCH6rSF46gJi8YolN6pRLXnE63lghWc3T\"\n",
    "\n"
   ]
  },
  {
   "cell_type": "code",
   "execution_count": 2,
   "metadata": {},
   "outputs": [
    {
     "data": {
      "text/html": [
       "<div>\n",
       "<style scoped>\n",
       "    .dataframe tbody tr th:only-of-type {\n",
       "        vertical-align: middle;\n",
       "    }\n",
       "\n",
       "    .dataframe tbody tr th {\n",
       "        vertical-align: top;\n",
       "    }\n",
       "\n",
       "    .dataframe thead th {\n",
       "        text-align: right;\n",
       "    }\n",
       "</style>\n",
       "<table border=\"1\" class=\"dataframe\">\n",
       "  <thead>\n",
       "    <tr style=\"text-align: right;\">\n",
       "      <th></th>\n",
       "      <th>Unnamed: 0</th>\n",
       "      <th>date</th>\n",
       "      <th>favorites</th>\n",
       "      <th>geo</th>\n",
       "      <th>hashtags</th>\n",
       "      <th>id</th>\n",
       "      <th>retweets</th>\n",
       "      <th>text</th>\n",
       "      <th>username</th>\n",
       "      <th>keyword</th>\n",
       "    </tr>\n",
       "  </thead>\n",
       "  <tbody>\n",
       "    <tr>\n",
       "      <th>0</th>\n",
       "      <td>0</td>\n",
       "      <td>2018-01-29 15:59:59</td>\n",
       "      <td>4</td>\n",
       "      <td>NaN</td>\n",
       "      <td>#Lunyr #LUN #Ethereum #Bitcoin #Blockchain</td>\n",
       "      <td>958127616095080449</td>\n",
       "      <td>0</td>\n",
       "      <td>Which universities would you like to work with...</td>\n",
       "      <td>OpenEthereum</td>\n",
       "      <td>btc</td>\n",
       "    </tr>\n",
       "    <tr>\n",
       "      <th>1</th>\n",
       "      <td>1</td>\n",
       "      <td>2018-01-29 15:59:58</td>\n",
       "      <td>0</td>\n",
       "      <td>NaN</td>\n",
       "      <td>#Criptomonedas #Bitcoin #Venezuela</td>\n",
       "      <td>958127610860580864</td>\n",
       "      <td>0</td>\n",
       "      <td>El Fabuloso Mundo de las #Criptomonedas #Bitco...</td>\n",
       "      <td>coincox</td>\n",
       "      <td>btc</td>\n",
       "    </tr>\n",
       "    <tr>\n",
       "      <th>2</th>\n",
       "      <td>2</td>\n",
       "      <td>2018-01-29 15:59:55</td>\n",
       "      <td>0</td>\n",
       "      <td>NaN</td>\n",
       "      <td>NaN</td>\n",
       "      <td>958127597577297920</td>\n",
       "      <td>0</td>\n",
       "      <td>Porque Podemos Fabricar Bitcoin con la mineria...</td>\n",
       "      <td>luisgodelavega</td>\n",
       "      <td>btc</td>\n",
       "    </tr>\n",
       "    <tr>\n",
       "      <th>3</th>\n",
       "      <td>3</td>\n",
       "      <td>2018-01-29 15:59:54</td>\n",
       "      <td>1</td>\n",
       "      <td>NaN</td>\n",
       "      <td>NaN</td>\n",
       "      <td>958127593412182016</td>\n",
       "      <td>0</td>\n",
       "      <td>Sign up for Robinhood to invest in Bitcoin and...</td>\n",
       "      <td>devdathug</td>\n",
       "      <td>btc</td>\n",
       "    </tr>\n",
       "    <tr>\n",
       "      <th>4</th>\n",
       "      <td>4</td>\n",
       "      <td>2018-01-29 15:59:52</td>\n",
       "      <td>0</td>\n",
       "      <td>NaN</td>\n",
       "      <td>NaN</td>\n",
       "      <td>958127588039450624</td>\n",
       "      <td>0</td>\n",
       "      <td>Bitcoin</td>\n",
       "      <td>RaenPiedmont</td>\n",
       "      <td>btc</td>\n",
       "    </tr>\n",
       "  </tbody>\n",
       "</table>\n",
       "</div>"
      ],
      "text/plain": [
       "  Unnamed: 0                 date favorites  geo  \\\n",
       "0          0  2018-01-29 15:59:59         4  NaN   \n",
       "1          1  2018-01-29 15:59:58         0  NaN   \n",
       "2          2  2018-01-29 15:59:55         0  NaN   \n",
       "3          3  2018-01-29 15:59:54         1  NaN   \n",
       "4          4  2018-01-29 15:59:52         0  NaN   \n",
       "\n",
       "                                     hashtags                  id retweets  \\\n",
       "0  #Lunyr #LUN #Ethereum #Bitcoin #Blockchain  958127616095080449        0   \n",
       "1          #Criptomonedas #Bitcoin #Venezuela  958127610860580864        0   \n",
       "2                                         NaN  958127597577297920        0   \n",
       "3                                         NaN  958127593412182016        0   \n",
       "4                                         NaN  958127588039450624        0   \n",
       "\n",
       "                                                text        username keyword  \n",
       "0  Which universities would you like to work with...    OpenEthereum     btc  \n",
       "1  El Fabuloso Mundo de las #Criptomonedas #Bitco...         coincox     btc  \n",
       "2  Porque Podemos Fabricar Bitcoin con la mineria...  luisgodelavega     btc  \n",
       "3  Sign up for Robinhood to invest in Bitcoin and...       devdathug     btc  \n",
       "4                                            Bitcoin    RaenPiedmont     btc  "
      ]
     },
     "execution_count": 2,
     "metadata": {},
     "output_type": "execute_result"
    }
   ],
   "source": [
    "# # Setup Tweepy API Authentication\n",
    "# auth = tweepy.OAuthHandler(consumer_key, consumer_secret)\n",
    "# auth.set_access_token(access_token, access_token_secret)\n",
    "# api = tweepy.API(auth, parser=tweepy.parsers.JSONParser())\n",
    "\n",
    "# # Get all tweets from home feed\n",
    "# public_tweets = api.home_timeline()\n",
    "\n",
    "# Import CSV file into Data Frame\n",
    "tweeter_data = pd.read_csv(\"Output_tweeter_bitcoin.csv\", dtype=str)\n",
    "\n",
    "tweeter_data.head()\n",
    "# len(df_tweeter_data)"
   ]
  },
  {
   "cell_type": "code",
   "execution_count": 3,
   "metadata": {},
   "outputs": [
    {
     "data": {
      "text/html": [
       "<div>\n",
       "<style scoped>\n",
       "    .dataframe tbody tr th:only-of-type {\n",
       "        vertical-align: middle;\n",
       "    }\n",
       "\n",
       "    .dataframe tbody tr th {\n",
       "        vertical-align: top;\n",
       "    }\n",
       "\n",
       "    .dataframe thead th {\n",
       "        text-align: right;\n",
       "    }\n",
       "</style>\n",
       "<table border=\"1\" class=\"dataframe\">\n",
       "  <thead>\n",
       "    <tr style=\"text-align: right;\">\n",
       "      <th></th>\n",
       "      <th>Unnamed: 0</th>\n",
       "      <th>date</th>\n",
       "      <th>favorites</th>\n",
       "      <th>geo</th>\n",
       "      <th>hashtags</th>\n",
       "      <th>id</th>\n",
       "      <th>retweets</th>\n",
       "      <th>text</th>\n",
       "      <th>username</th>\n",
       "      <th>keyword</th>\n",
       "    </tr>\n",
       "  </thead>\n",
       "  <tbody>\n",
       "    <tr>\n",
       "      <th>0</th>\n",
       "      <td>0</td>\n",
       "      <td>2018-01-29 15:59:59</td>\n",
       "      <td>4</td>\n",
       "      <td>NaN</td>\n",
       "      <td>#Lunyr #LUN #Ethereum #Bitcoin #Blockchain</td>\n",
       "      <td>958127616095080449</td>\n",
       "      <td>0</td>\n",
       "      <td>Which universities would you like to work with...</td>\n",
       "      <td>OpenEthereum</td>\n",
       "      <td>btc</td>\n",
       "    </tr>\n",
       "    <tr>\n",
       "      <th>1</th>\n",
       "      <td>1</td>\n",
       "      <td>2018-01-29 15:59:58</td>\n",
       "      <td>0</td>\n",
       "      <td>NaN</td>\n",
       "      <td>#Criptomonedas #Bitcoin #Venezuela</td>\n",
       "      <td>958127610860580864</td>\n",
       "      <td>0</td>\n",
       "      <td>El Fabuloso Mundo de las #Criptomonedas #Bitco...</td>\n",
       "      <td>coincox</td>\n",
       "      <td>btc</td>\n",
       "    </tr>\n",
       "    <tr>\n",
       "      <th>2</th>\n",
       "      <td>2</td>\n",
       "      <td>2018-01-29 15:59:55</td>\n",
       "      <td>0</td>\n",
       "      <td>NaN</td>\n",
       "      <td>NaN</td>\n",
       "      <td>958127597577297920</td>\n",
       "      <td>0</td>\n",
       "      <td>Porque Podemos Fabricar Bitcoin con la mineria...</td>\n",
       "      <td>luisgodelavega</td>\n",
       "      <td>btc</td>\n",
       "    </tr>\n",
       "    <tr>\n",
       "      <th>3</th>\n",
       "      <td>3</td>\n",
       "      <td>2018-01-29 15:59:54</td>\n",
       "      <td>1</td>\n",
       "      <td>NaN</td>\n",
       "      <td>NaN</td>\n",
       "      <td>958127593412182016</td>\n",
       "      <td>0</td>\n",
       "      <td>Sign up for Robinhood to invest in Bitcoin and...</td>\n",
       "      <td>devdathug</td>\n",
       "      <td>btc</td>\n",
       "    </tr>\n",
       "    <tr>\n",
       "      <th>4</th>\n",
       "      <td>4</td>\n",
       "      <td>2018-01-29 15:59:52</td>\n",
       "      <td>0</td>\n",
       "      <td>NaN</td>\n",
       "      <td>NaN</td>\n",
       "      <td>958127588039450624</td>\n",
       "      <td>0</td>\n",
       "      <td>Bitcoin</td>\n",
       "      <td>RaenPiedmont</td>\n",
       "      <td>btc</td>\n",
       "    </tr>\n",
       "  </tbody>\n",
       "</table>\n",
       "</div>"
      ],
      "text/plain": [
       "  Unnamed: 0                 date favorites  geo  \\\n",
       "0          0  2018-01-29 15:59:59         4  NaN   \n",
       "1          1  2018-01-29 15:59:58         0  NaN   \n",
       "2          2  2018-01-29 15:59:55         0  NaN   \n",
       "3          3  2018-01-29 15:59:54         1  NaN   \n",
       "4          4  2018-01-29 15:59:52         0  NaN   \n",
       "\n",
       "                                     hashtags                  id retweets  \\\n",
       "0  #Lunyr #LUN #Ethereum #Bitcoin #Blockchain  958127616095080449        0   \n",
       "1          #Criptomonedas #Bitcoin #Venezuela  958127610860580864        0   \n",
       "2                                         NaN  958127597577297920        0   \n",
       "3                                         NaN  958127593412182016        0   \n",
       "4                                         NaN  958127588039450624        0   \n",
       "\n",
       "                                                text        username keyword  \n",
       "0  Which universities would you like to work with...    OpenEthereum     btc  \n",
       "1  El Fabuloso Mundo de las #Criptomonedas #Bitco...         coincox     btc  \n",
       "2  Porque Podemos Fabricar Bitcoin con la mineria...  luisgodelavega     btc  \n",
       "3  Sign up for Robinhood to invest in Bitcoin and...       devdathug     btc  \n",
       "4                                            Bitcoin    RaenPiedmont     btc  "
      ]
     },
     "execution_count": 3,
     "metadata": {},
     "output_type": "execute_result"
    }
   ],
   "source": [
    "df_tweeter_data = pd.DataFrame(tweeter_data)\n",
    "df_tweeter_data.head()"
   ]
  },
  {
   "cell_type": "code",
   "execution_count": 4,
   "metadata": {},
   "outputs": [
    {
     "data": {
      "text/html": [
       "<div>\n",
       "<style scoped>\n",
       "    .dataframe tbody tr th:only-of-type {\n",
       "        vertical-align: middle;\n",
       "    }\n",
       "\n",
       "    .dataframe tbody tr th {\n",
       "        vertical-align: top;\n",
       "    }\n",
       "\n",
       "    .dataframe thead th {\n",
       "        text-align: right;\n",
       "    }\n",
       "</style>\n",
       "<table border=\"1\" class=\"dataframe\">\n",
       "  <thead>\n",
       "    <tr style=\"text-align: right;\">\n",
       "      <th></th>\n",
       "      <th>date</th>\n",
       "      <th>text</th>\n",
       "      <th>username</th>\n",
       "      <th>keyword</th>\n",
       "    </tr>\n",
       "  </thead>\n",
       "  <tbody>\n",
       "    <tr>\n",
       "      <th>0</th>\n",
       "      <td>2018-01-29 15:59:59</td>\n",
       "      <td>Which universities would you like to work with...</td>\n",
       "      <td>OpenEthereum</td>\n",
       "      <td>btc</td>\n",
       "    </tr>\n",
       "    <tr>\n",
       "      <th>1</th>\n",
       "      <td>2018-01-29 15:59:58</td>\n",
       "      <td>El Fabuloso Mundo de las #Criptomonedas #Bitco...</td>\n",
       "      <td>coincox</td>\n",
       "      <td>btc</td>\n",
       "    </tr>\n",
       "    <tr>\n",
       "      <th>2</th>\n",
       "      <td>2018-01-29 15:59:55</td>\n",
       "      <td>Porque Podemos Fabricar Bitcoin con la mineria...</td>\n",
       "      <td>luisgodelavega</td>\n",
       "      <td>btc</td>\n",
       "    </tr>\n",
       "    <tr>\n",
       "      <th>3</th>\n",
       "      <td>2018-01-29 15:59:54</td>\n",
       "      <td>Sign up for Robinhood to invest in Bitcoin and...</td>\n",
       "      <td>devdathug</td>\n",
       "      <td>btc</td>\n",
       "    </tr>\n",
       "    <tr>\n",
       "      <th>4</th>\n",
       "      <td>2018-01-29 15:59:52</td>\n",
       "      <td>Bitcoin</td>\n",
       "      <td>RaenPiedmont</td>\n",
       "      <td>btc</td>\n",
       "    </tr>\n",
       "  </tbody>\n",
       "</table>\n",
       "</div>"
      ],
      "text/plain": [
       "                  date                                               text  \\\n",
       "0  2018-01-29 15:59:59  Which universities would you like to work with...   \n",
       "1  2018-01-29 15:59:58  El Fabuloso Mundo de las #Criptomonedas #Bitco...   \n",
       "2  2018-01-29 15:59:55  Porque Podemos Fabricar Bitcoin con la mineria...   \n",
       "3  2018-01-29 15:59:54  Sign up for Robinhood to invest in Bitcoin and...   \n",
       "4  2018-01-29 15:59:52                                            Bitcoin   \n",
       "\n",
       "         username keyword  \n",
       "0    OpenEthereum     btc  \n",
       "1         coincox     btc  \n",
       "2  luisgodelavega     btc  \n",
       "3       devdathug     btc  \n",
       "4    RaenPiedmont     btc  "
      ]
     },
     "execution_count": 4,
     "metadata": {},
     "output_type": "execute_result"
    }
   ],
   "source": [
    "columns = ['date','text','username','keyword']\n",
    "df1_tweeter_data = pd.DataFrame(df_tweeter_data, columns=columns)\n",
    "df1_tweeter_data.head()"
   ]
  },
  {
   "cell_type": "code",
   "execution_count": 5,
   "metadata": {},
   "outputs": [
    {
     "data": {
      "text/plain": [
       "55800"
      ]
     },
     "execution_count": 5,
     "metadata": {},
     "output_type": "execute_result"
    }
   ],
   "source": [
    "len(df1_tweeter_data)"
   ]
  },
  {
   "cell_type": "code",
   "execution_count": 6,
   "metadata": {},
   "outputs": [
    {
     "data": {
      "text/plain": [
       "9054"
      ]
     },
     "execution_count": 6,
     "metadata": {},
     "output_type": "execute_result"
    }
   ],
   "source": [
    "df2_tweeter_data = df1_tweeter_data.drop_duplicates([\"text\",\"username\"])\n",
    "len(df2_tweeter_data)"
   ]
  },
  {
   "cell_type": "code",
   "execution_count": 7,
   "metadata": {},
   "outputs": [],
   "source": [
    "df2_tweeter_data=df2_tweeter_data.fillna('')"
   ]
  },
  {
   "cell_type": "code",
   "execution_count": 8,
   "metadata": {
    "scrolled": true
   },
   "outputs": [
    {
     "name": "stdout",
     "output_type": "stream",
     "text": [
      "9054\n",
      "0.06979544952507179\n",
      "9054\n",
      "9054\n"
     ]
    }
   ],
   "source": [
    "# Search for all tweets\n",
    "tweets_text = df2_tweeter_data[\"text\"]\n",
    "\n",
    "# counter = 0\n",
    "compound_list = []\n",
    "positive_list = []\n",
    "negative_list = []\n",
    "neutral_list = []\n",
    "all_tweets = []\n",
    "\n",
    "for tweet in tweets_text:\n",
    "    if type(tweet) is str:\n",
    "#     all_tweets.append(tweet)\n",
    "#     tx= TextBlob(t)\n",
    "#     counter+=1\n",
    "#     print(counter)\n",
    "#     print(tweet)\n",
    "    \n",
    "        compound = analyzer.polarity_scores(tweet)[\"compound\"]\n",
    "#         print(compound)\n",
    "        pos = analyzer.polarity_scores(tweet)[\"pos\"]\n",
    "        neu = analyzer.polarity_scores(tweet)[\"neu\"]\n",
    "        neg = analyzer.polarity_scores(tweet)[\"neg\"]\n",
    "    \n",
    "# # # Add each value to the appropriate list\n",
    "        compound_list.append(compound)\n",
    "        positive_list.append(pos)\n",
    "        negative_list.append(neg)\n",
    "        neutral_list.append(neu)\n",
    "    \n",
    "# # # Print the Averages\n",
    "# print(compound_list)\n",
    "print(len(compound_list))\n",
    "# print(*************)\n",
    "# print(\"+ve\" + str(positive_list))\n",
    "print(np.mean(positive_list))\n",
    "print(len(negative_list))\n",
    "print(len(neutral_list))\n",
    "# print(\"-ve\" + str(negative_list))\n",
    "# print(\"neutral\" + str(neutral_list))    \n",
    "    \n",
    "# # len(tweets_text)"
   ]
  },
  {
   "cell_type": "code",
   "execution_count": 9,
   "metadata": {},
   "outputs": [],
   "source": [
    "import numpy as np\n",
    "test = np.array(compound_list)"
   ]
  },
  {
   "cell_type": "code",
   "execution_count": 10,
   "metadata": {},
   "outputs": [
    {
     "data": {
      "text/plain": [
       "9054"
      ]
     },
     "execution_count": 10,
     "metadata": {},
     "output_type": "execute_result"
    }
   ],
   "source": [
    "len(test)"
   ]
  },
  {
   "cell_type": "code",
   "execution_count": 11,
   "metadata": {},
   "outputs": [],
   "source": [
    "df2_tweeter_data[\"Compound_score\"] = compound_list"
   ]
  },
  {
   "cell_type": "code",
   "execution_count": 12,
   "metadata": {
    "scrolled": true
   },
   "outputs": [],
   "source": [
    "df2_tweeter_data[\"Positive_score\"] = positive_list"
   ]
  },
  {
   "cell_type": "code",
   "execution_count": 13,
   "metadata": {},
   "outputs": [],
   "source": [
    "df2_tweeter_data[\"Negative_score\"] = negative_list"
   ]
  },
  {
   "cell_type": "code",
   "execution_count": 14,
   "metadata": {},
   "outputs": [
    {
     "data": {
      "text/html": [
       "<div>\n",
       "<style scoped>\n",
       "    .dataframe tbody tr th:only-of-type {\n",
       "        vertical-align: middle;\n",
       "    }\n",
       "\n",
       "    .dataframe tbody tr th {\n",
       "        vertical-align: top;\n",
       "    }\n",
       "\n",
       "    .dataframe thead th {\n",
       "        text-align: right;\n",
       "    }\n",
       "</style>\n",
       "<table border=\"1\" class=\"dataframe\">\n",
       "  <thead>\n",
       "    <tr style=\"text-align: right;\">\n",
       "      <th></th>\n",
       "      <th>date</th>\n",
       "      <th>text</th>\n",
       "      <th>username</th>\n",
       "      <th>keyword</th>\n",
       "      <th>Compound_score</th>\n",
       "      <th>Positive_score</th>\n",
       "      <th>Negative_score</th>\n",
       "    </tr>\n",
       "  </thead>\n",
       "  <tbody>\n",
       "    <tr>\n",
       "      <th>0</th>\n",
       "      <td>2018-01-29 15:59:59</td>\n",
       "      <td>Which universities would you like to work with...</td>\n",
       "      <td>OpenEthereum</td>\n",
       "      <td>btc</td>\n",
       "      <td>0.3612</td>\n",
       "      <td>0.135</td>\n",
       "      <td>0.0</td>\n",
       "    </tr>\n",
       "    <tr>\n",
       "      <th>1</th>\n",
       "      <td>2018-01-29 15:59:58</td>\n",
       "      <td>El Fabuloso Mundo de las #Criptomonedas #Bitco...</td>\n",
       "      <td>coincox</td>\n",
       "      <td>btc</td>\n",
       "      <td>0.0000</td>\n",
       "      <td>0.000</td>\n",
       "      <td>0.0</td>\n",
       "    </tr>\n",
       "    <tr>\n",
       "      <th>2</th>\n",
       "      <td>2018-01-29 15:59:55</td>\n",
       "      <td>Porque Podemos Fabricar Bitcoin con la mineria...</td>\n",
       "      <td>luisgodelavega</td>\n",
       "      <td>btc</td>\n",
       "      <td>0.0000</td>\n",
       "      <td>0.000</td>\n",
       "      <td>0.0</td>\n",
       "    </tr>\n",
       "    <tr>\n",
       "      <th>3</th>\n",
       "      <td>2018-01-29 15:59:54</td>\n",
       "      <td>Sign up for Robinhood to invest in Bitcoin and...</td>\n",
       "      <td>devdathug</td>\n",
       "      <td>btc</td>\n",
       "      <td>0.7263</td>\n",
       "      <td>0.225</td>\n",
       "      <td>0.0</td>\n",
       "    </tr>\n",
       "    <tr>\n",
       "      <th>4</th>\n",
       "      <td>2018-01-29 15:59:52</td>\n",
       "      <td>Bitcoin</td>\n",
       "      <td>RaenPiedmont</td>\n",
       "      <td>btc</td>\n",
       "      <td>0.0000</td>\n",
       "      <td>0.000</td>\n",
       "      <td>0.0</td>\n",
       "    </tr>\n",
       "  </tbody>\n",
       "</table>\n",
       "</div>"
      ],
      "text/plain": [
       "                  date                                               text  \\\n",
       "0  2018-01-29 15:59:59  Which universities would you like to work with...   \n",
       "1  2018-01-29 15:59:58  El Fabuloso Mundo de las #Criptomonedas #Bitco...   \n",
       "2  2018-01-29 15:59:55  Porque Podemos Fabricar Bitcoin con la mineria...   \n",
       "3  2018-01-29 15:59:54  Sign up for Robinhood to invest in Bitcoin and...   \n",
       "4  2018-01-29 15:59:52                                            Bitcoin   \n",
       "\n",
       "         username keyword  Compound_score  Positive_score  Negative_score  \n",
       "0    OpenEthereum     btc          0.3612           0.135             0.0  \n",
       "1         coincox     btc          0.0000           0.000             0.0  \n",
       "2  luisgodelavega     btc          0.0000           0.000             0.0  \n",
       "3       devdathug     btc          0.7263           0.225             0.0  \n",
       "4    RaenPiedmont     btc          0.0000           0.000             0.0  "
      ]
     },
     "execution_count": 14,
     "metadata": {},
     "output_type": "execute_result"
    }
   ],
   "source": [
    "df2_tweeter_data.head(5)"
   ]
  },
  {
   "cell_type": "code",
   "execution_count": 15,
   "metadata": {},
   "outputs": [
    {
     "data": {
      "text/html": [
       "<div>\n",
       "<style scoped>\n",
       "    .dataframe tbody tr th:only-of-type {\n",
       "        vertical-align: middle;\n",
       "    }\n",
       "\n",
       "    .dataframe tbody tr th {\n",
       "        vertical-align: top;\n",
       "    }\n",
       "\n",
       "    .dataframe thead th {\n",
       "        text-align: right;\n",
       "    }\n",
       "</style>\n",
       "<table border=\"1\" class=\"dataframe\">\n",
       "  <thead>\n",
       "    <tr style=\"text-align: right;\">\n",
       "      <th></th>\n",
       "      <th>neg</th>\n",
       "      <th>neutral</th>\n",
       "      <th>pos</th>\n",
       "    </tr>\n",
       "  </thead>\n",
       "  <tbody>\n",
       "    <tr>\n",
       "      <th>0</th>\n",
       "      <td>0.0</td>\n",
       "      <td>0.865</td>\n",
       "      <td>0.135</td>\n",
       "    </tr>\n",
       "    <tr>\n",
       "      <th>1</th>\n",
       "      <td>0.0</td>\n",
       "      <td>1.000</td>\n",
       "      <td>0.000</td>\n",
       "    </tr>\n",
       "    <tr>\n",
       "      <th>2</th>\n",
       "      <td>0.0</td>\n",
       "      <td>1.000</td>\n",
       "      <td>0.000</td>\n",
       "    </tr>\n",
       "    <tr>\n",
       "      <th>3</th>\n",
       "      <td>0.0</td>\n",
       "      <td>0.775</td>\n",
       "      <td>0.225</td>\n",
       "    </tr>\n",
       "    <tr>\n",
       "      <th>4</th>\n",
       "      <td>0.0</td>\n",
       "      <td>1.000</td>\n",
       "      <td>0.000</td>\n",
       "    </tr>\n",
       "  </tbody>\n",
       "</table>\n",
       "</div>"
      ],
      "text/plain": [
       "   neg  neutral    pos\n",
       "0  0.0    0.865  0.135\n",
       "1  0.0    1.000  0.000\n",
       "2  0.0    1.000  0.000\n",
       "3  0.0    0.775  0.225\n",
       "4  0.0    1.000  0.000"
      ]
     },
     "execution_count": 15,
     "metadata": {},
     "output_type": "execute_result"
    }
   ],
   "source": [
    "df_tweeter_scores = pd.DataFrame({'pos':positive_list, 'neg':negative_list, 'neutral':neutral_list})\n",
    "df_tweeter_scores.head()"
   ]
  },
  {
   "cell_type": "code",
   "execution_count": 81,
   "metadata": {},
   "outputs": [
    {
     "data": {
      "text/plain": [
       "array([[<matplotlib.axes._subplots.AxesSubplot object at 0x000002A995CBA5C0>,\n",
       "        <matplotlib.axes._subplots.AxesSubplot object at 0x000002A995618F28>],\n",
       "       [<matplotlib.axes._subplots.AxesSubplot object at 0x000002A995D51BA8>,\n",
       "        <matplotlib.axes._subplots.AxesSubplot object at 0x000002A995D45898>]],\n",
       "      dtype=object)"
      ]
     },
     "execution_count": 81,
     "metadata": {},
     "output_type": "execute_result"
    },
    {
     "data": {
      "image/png": "[encoded data removed]",
      "text/plain": [
       "<matplotlib.figure.Figure at 0x2a995c9a518>"
      ]
     },
     "metadata": {},
     "output_type": "display_data"
    }
   ],
   "source": [
    "df_tweeter_scores.hist()"
   ]
  },
  {
   "cell_type": "code",
   "execution_count": null,
   "metadata": {},
   "outputs": [],
   "source": [
    "# plt.bar(df2_tweeter_data['date'], df2_tweeter_data['Compound_score'],width = 0.2)"
   ]
  },
  {
   "cell_type": "code",
   "execution_count": 82,
   "metadata": {},
   "outputs": [
    {
     "data": {
      "text/plain": [
       "<matplotlib.figure.Figure at 0x2a995d5bc88>"
      ]
     },
     "metadata": {},
     "output_type": "display_data"
    }
   ],
   "source": [
    "plt.savefig('Histogram chart of Scores',dpi=300)"
   ]
  },
  {
   "cell_type": "code",
   "execution_count": 21,
   "metadata": {},
   "outputs": [
    {
     "data": {
      "text/html": [
       "<div>\n",
       "<style scoped>\n",
       "    .dataframe tbody tr th:only-of-type {\n",
       "        vertical-align: middle;\n",
       "    }\n",
       "\n",
       "    .dataframe tbody tr th {\n",
       "        vertical-align: top;\n",
       "    }\n",
       "\n",
       "    .dataframe thead th {\n",
       "        text-align: right;\n",
       "    }\n",
       "</style>\n",
       "<table border=\"1\" class=\"dataframe\">\n",
       "  <thead>\n",
       "    <tr style=\"text-align: right;\">\n",
       "      <th></th>\n",
       "      <th>date</th>\n",
       "      <th>text</th>\n",
       "      <th>username</th>\n",
       "      <th>keyword</th>\n",
       "      <th>Compound_score</th>\n",
       "      <th>Positive_score</th>\n",
       "      <th>Negative_score</th>\n",
       "    </tr>\n",
       "  </thead>\n",
       "  <tbody>\n",
       "    <tr>\n",
       "      <th>0</th>\n",
       "      <td>2018-01-29</td>\n",
       "      <td>Which universities would you like to work with...</td>\n",
       "      <td>OpenEthereum</td>\n",
       "      <td>btc</td>\n",
       "      <td>0.3612</td>\n",
       "      <td>0.135</td>\n",
       "      <td>0.0</td>\n",
       "    </tr>\n",
       "    <tr>\n",
       "      <th>1</th>\n",
       "      <td>2018-01-29</td>\n",
       "      <td>El Fabuloso Mundo de las #Criptomonedas #Bitco...</td>\n",
       "      <td>coincox</td>\n",
       "      <td>btc</td>\n",
       "      <td>0.0000</td>\n",
       "      <td>0.000</td>\n",
       "      <td>0.0</td>\n",
       "    </tr>\n",
       "    <tr>\n",
       "      <th>2</th>\n",
       "      <td>2018-01-29</td>\n",
       "      <td>Porque Podemos Fabricar Bitcoin con la mineria...</td>\n",
       "      <td>luisgodelavega</td>\n",
       "      <td>btc</td>\n",
       "      <td>0.0000</td>\n",
       "      <td>0.000</td>\n",
       "      <td>0.0</td>\n",
       "    </tr>\n",
       "    <tr>\n",
       "      <th>3</th>\n",
       "      <td>2018-01-29</td>\n",
       "      <td>Sign up for Robinhood to invest in Bitcoin and...</td>\n",
       "      <td>devdathug</td>\n",
       "      <td>btc</td>\n",
       "      <td>0.7263</td>\n",
       "      <td>0.225</td>\n",
       "      <td>0.0</td>\n",
       "    </tr>\n",
       "    <tr>\n",
       "      <th>4</th>\n",
       "      <td>2018-01-29</td>\n",
       "      <td>Bitcoin</td>\n",
       "      <td>RaenPiedmont</td>\n",
       "      <td>btc</td>\n",
       "      <td>0.0000</td>\n",
       "      <td>0.000</td>\n",
       "      <td>0.0</td>\n",
       "    </tr>\n",
       "  </tbody>\n",
       "</table>\n",
       "</div>"
      ],
      "text/plain": [
       "         date                                               text  \\\n",
       "0  2018-01-29  Which universities would you like to work with...   \n",
       "1  2018-01-29  El Fabuloso Mundo de las #Criptomonedas #Bitco...   \n",
       "2  2018-01-29  Porque Podemos Fabricar Bitcoin con la mineria...   \n",
       "3  2018-01-29  Sign up for Robinhood to invest in Bitcoin and...   \n",
       "4  2018-01-29                                            Bitcoin   \n",
       "\n",
       "         username keyword  Compound_score  Positive_score  Negative_score  \n",
       "0    OpenEthereum     btc          0.3612           0.135             0.0  \n",
       "1         coincox     btc          0.0000           0.000             0.0  \n",
       "2  luisgodelavega     btc          0.0000           0.000             0.0  \n",
       "3       devdathug     btc          0.7263           0.225             0.0  \n",
       "4    RaenPiedmont     btc          0.0000           0.000             0.0  "
      ]
     },
     "execution_count": 21,
     "metadata": {},
     "output_type": "execute_result"
    }
   ],
   "source": [
    "\n",
    "df2_tweeter_data['date'] = pd.to_datetime(df2_tweeter_data['date']).dt.date\n",
    "df2_tweeter_data.head()"
   ]
  },
  {
   "cell_type": "code",
   "execution_count": 34,
   "metadata": {},
   "outputs": [],
   "source": [
    "df3_tweeter_data = pd.DataFrame(df2_tweeter_data.groupby(['date'])['Compound_score'].mean().reset_index())"
   ]
  },
  {
   "cell_type": "code",
   "execution_count": 35,
   "metadata": {},
   "outputs": [
    {
     "data": {
      "text/html": [
       "<div>\n",
       "<style scoped>\n",
       "    .dataframe tbody tr th:only-of-type {\n",
       "        vertical-align: middle;\n",
       "    }\n",
       "\n",
       "    .dataframe tbody tr th {\n",
       "        vertical-align: top;\n",
       "    }\n",
       "\n",
       "    .dataframe thead th {\n",
       "        text-align: right;\n",
       "    }\n",
       "</style>\n",
       "<table border=\"1\" class=\"dataframe\">\n",
       "  <thead>\n",
       "    <tr style=\"text-align: right;\">\n",
       "      <th></th>\n",
       "      <th>date</th>\n",
       "      <th>Compound_score</th>\n",
       "    </tr>\n",
       "  </thead>\n",
       "  <tbody>\n",
       "    <tr>\n",
       "      <th>0</th>\n",
       "      <td>2018-01-01</td>\n",
       "      <td>0.048901</td>\n",
       "    </tr>\n",
       "    <tr>\n",
       "      <th>1</th>\n",
       "      <td>2018-01-02</td>\n",
       "      <td>0.088920</td>\n",
       "    </tr>\n",
       "    <tr>\n",
       "      <th>2</th>\n",
       "      <td>2018-01-03</td>\n",
       "      <td>0.055328</td>\n",
       "    </tr>\n",
       "    <tr>\n",
       "      <th>3</th>\n",
       "      <td>2018-01-04</td>\n",
       "      <td>0.065462</td>\n",
       "    </tr>\n",
       "    <tr>\n",
       "      <th>4</th>\n",
       "      <td>2018-01-05</td>\n",
       "      <td>0.062515</td>\n",
       "    </tr>\n",
       "  </tbody>\n",
       "</table>\n",
       "</div>"
      ],
      "text/plain": [
       "         date  Compound_score\n",
       "0  2018-01-01        0.048901\n",
       "1  2018-01-02        0.088920\n",
       "2  2018-01-03        0.055328\n",
       "3  2018-01-04        0.065462\n",
       "4  2018-01-05        0.062515"
      ]
     },
     "execution_count": 35,
     "metadata": {},
     "output_type": "execute_result"
    }
   ],
   "source": [
    "df3_tweeter_data.head()"
   ]
  },
  {
   "cell_type": "code",
   "execution_count": 93,
   "metadata": {},
   "outputs": [
    {
     "data": {
      "image/png": "[encoded data removed]",
      "text/plain": [
       "<matplotlib.figure.Figure at 0x2a9972dc588>"
      ]
     },
     "metadata": {},
     "output_type": "display_data"
    }
   ],
   "source": [
    "plt.bar(df3_tweeter_data['date'], df3_tweeter_data['Compound_score'])\n",
    "plt.xticks(rotation=90)\n",
    "plt.title(\"Bar Chart of Sentiment Analysis Scores for Bitcoin\")\n",
    "plt.savefig('fig1.png', dpi = 300)"
   ]
  },
  {
   "cell_type": "code",
   "execution_count": 58,
   "metadata": {},
   "outputs": [],
   "source": [
    "\n",
    "def daily_price_historical(symbol, comparison_symbol, all_data=True, limit=1, aggregate=1, exchange=''):\n",
    "    url = 'https://min-api.cryptocompare.com/data/histoday?fsym={}&tsym={}&limit={}&aggregate={}'\\\n",
    "            .format(symbol.upper(), comparison_symbol.upper(), limit, aggregate)\n",
    "    if exchange:\n",
    "        url += '&e={}'.format(exchange)\n",
    "    if all_data:\n",
    "        url += '&allData=true'\n",
    "    page = requests.get(url)\n",
    "    data = page.json()['Data']\n",
    "    df = pd.DataFrame(data)\n",
    "    df['timestamp'] = [datetime.datetime.fromtimestamp(d) for d in df.time]\n",
    "    return df"
   ]
  },
  {
   "cell_type": "code",
   "execution_count": 71,
   "metadata": {},
   "outputs": [
    {
     "name": "stdout",
     "output_type": "stream",
     "text": [
      "Max length = 2821\n",
      "Max time = 2820 days 00:00:00\n"
     ]
    },
    {
     "name": "stderr",
     "output_type": "stream",
     "text": [
      "C:\\Users\\hbhanushali\\AppData\\Local\\Continuum\\anaconda3\\lib\\site-packages\\ipykernel_launcher.py:6: UserWarning: Boolean Series key will be reindexed to match DataFrame index.\n",
      "  \n"
     ]
    },
    {
     "data": {
      "text/html": [
       "<div>\n",
       "<style scoped>\n",
       "    .dataframe tbody tr th:only-of-type {\n",
       "        vertical-align: middle;\n",
       "    }\n",
       "\n",
       "    .dataframe tbody tr th {\n",
       "        vertical-align: top;\n",
       "    }\n",
       "\n",
       "    .dataframe thead th {\n",
       "        text-align: right;\n",
       "    }\n",
       "</style>\n",
       "<table border=\"1\" class=\"dataframe\">\n",
       "  <thead>\n",
       "    <tr style=\"text-align: right;\">\n",
       "      <th></th>\n",
       "      <th>close</th>\n",
       "      <th>high</th>\n",
       "      <th>low</th>\n",
       "      <th>open</th>\n",
       "      <th>time</th>\n",
       "      <th>volumefrom</th>\n",
       "      <th>volumeto</th>\n",
       "      <th>timestamp</th>\n",
       "      <th>change</th>\n",
       "      <th>percentage_change</th>\n",
       "    </tr>\n",
       "  </thead>\n",
       "  <tbody>\n",
       "    <tr>\n",
       "      <th>2726</th>\n",
       "      <td>14754.13</td>\n",
       "      <td>15306.13</td>\n",
       "      <td>12934.16</td>\n",
       "      <td>13444.88</td>\n",
       "      <td>1514851200</td>\n",
       "      <td>137732.17</td>\n",
       "      <td>1.956783e+09</td>\n",
       "      <td>2018-01-01 16:00:00</td>\n",
       "      <td>-1309.25</td>\n",
       "      <td>-9.737908</td>\n",
       "    </tr>\n",
       "    <tr>\n",
       "      <th>2727</th>\n",
       "      <td>15156.62</td>\n",
       "      <td>15435.01</td>\n",
       "      <td>14579.71</td>\n",
       "      <td>14754.09</td>\n",
       "      <td>1514937600</td>\n",
       "      <td>106543.39</td>\n",
       "      <td>1.604207e+09</td>\n",
       "      <td>2018-01-02 16:00:00</td>\n",
       "      <td>-402.53</td>\n",
       "      <td>-2.728260</td>\n",
       "    </tr>\n",
       "    <tr>\n",
       "      <th>2728</th>\n",
       "      <td>15180.08</td>\n",
       "      <td>15408.66</td>\n",
       "      <td>14244.67</td>\n",
       "      <td>15156.49</td>\n",
       "      <td>1515024000</td>\n",
       "      <td>110968.82</td>\n",
       "      <td>1.656715e+09</td>\n",
       "      <td>2018-01-03 16:00:00</td>\n",
       "      <td>-23.59</td>\n",
       "      <td>-0.155643</td>\n",
       "    </tr>\n",
       "    <tr>\n",
       "      <th>2729</th>\n",
       "      <td>16954.78</td>\n",
       "      <td>17126.95</td>\n",
       "      <td>14832.36</td>\n",
       "      <td>15180.08</td>\n",
       "      <td>1515110400</td>\n",
       "      <td>141960.42</td>\n",
       "      <td>2.283989e+09</td>\n",
       "      <td>2018-01-04 16:00:00</td>\n",
       "      <td>-1774.70</td>\n",
       "      <td>-11.690979</td>\n",
       "    </tr>\n",
       "    <tr>\n",
       "      <th>2730</th>\n",
       "      <td>17172.30</td>\n",
       "      <td>17252.85</td>\n",
       "      <td>16286.57</td>\n",
       "      <td>16954.76</td>\n",
       "      <td>1515196800</td>\n",
       "      <td>83927.99</td>\n",
       "      <td>1.412704e+09</td>\n",
       "      <td>2018-01-05 16:00:00</td>\n",
       "      <td>-217.54</td>\n",
       "      <td>-1.283062</td>\n",
       "    </tr>\n",
       "  </tbody>\n",
       "</table>\n",
       "</div>"
      ],
      "text/plain": [
       "         close      high       low      open        time  volumefrom  \\\n",
       "2726  14754.13  15306.13  12934.16  13444.88  1514851200   137732.17   \n",
       "2727  15156.62  15435.01  14579.71  14754.09  1514937600   106543.39   \n",
       "2728  15180.08  15408.66  14244.67  15156.49  1515024000   110968.82   \n",
       "2729  16954.78  17126.95  14832.36  15180.08  1515110400   141960.42   \n",
       "2730  17172.30  17252.85  16286.57  16954.76  1515196800    83927.99   \n",
       "\n",
       "          volumeto           timestamp   change  percentage_change  \n",
       "2726  1.956783e+09 2018-01-01 16:00:00 -1309.25          -9.737908  \n",
       "2727  1.604207e+09 2018-01-02 16:00:00  -402.53          -2.728260  \n",
       "2728  1.656715e+09 2018-01-03 16:00:00   -23.59          -0.155643  \n",
       "2729  2.283989e+09 2018-01-04 16:00:00 -1774.70         -11.690979  \n",
       "2730  1.412704e+09 2018-01-05 16:00:00  -217.54          -1.283062  "
      ]
     },
     "execution_count": 71,
     "metadata": {},
     "output_type": "execute_result"
    }
   ],
   "source": [
    "df = daily_price_historical('BTC', 'USD')\n",
    "print('Max length = %s' % len(df))\n",
    "print('Max time = %s' % (df.timestamp.max() -df.timestamp.min()))\n",
    "\n",
    "\n",
    "df_jan = df[df.timestamp>'20180101'][df.timestamp<'20180201']\n",
    "df_jan[\"change\"] = df_jan['open'] - df_jan['close']\n",
    "df_jan['percentage_change'] = df_jan['change']/df_jan['open']*100\n",
    "df_jan.head()"
   ]
  },
  {
   "cell_type": "code",
   "execution_count": 84,
   "metadata": {},
   "outputs": [
    {
     "data": {
      "text/html": [
       "<div>\n",
       "<style scoped>\n",
       "    .dataframe tbody tr th:only-of-type {\n",
       "        vertical-align: middle;\n",
       "    }\n",
       "\n",
       "    .dataframe tbody tr th {\n",
       "        vertical-align: top;\n",
       "    }\n",
       "\n",
       "    .dataframe thead th {\n",
       "        text-align: right;\n",
       "    }\n",
       "</style>\n",
       "<table border=\"1\" class=\"dataframe\">\n",
       "  <thead>\n",
       "    <tr style=\"text-align: right;\">\n",
       "      <th></th>\n",
       "      <th>close</th>\n",
       "      <th>high</th>\n",
       "      <th>low</th>\n",
       "      <th>open</th>\n",
       "      <th>time</th>\n",
       "      <th>volumefrom</th>\n",
       "      <th>volumeto</th>\n",
       "      <th>timestamp</th>\n",
       "      <th>change</th>\n",
       "      <th>percentage_change</th>\n",
       "      <th>date</th>\n",
       "    </tr>\n",
       "  </thead>\n",
       "  <tbody>\n",
       "    <tr>\n",
       "      <th>2726</th>\n",
       "      <td>14754.13</td>\n",
       "      <td>15306.13</td>\n",
       "      <td>12934.16</td>\n",
       "      <td>13444.88</td>\n",
       "      <td>1514851200</td>\n",
       "      <td>137732.17</td>\n",
       "      <td>1.956783e+09</td>\n",
       "      <td>2018-01-01 16:00:00</td>\n",
       "      <td>-1309.25</td>\n",
       "      <td>-9.737908</td>\n",
       "      <td>2018-01-01</td>\n",
       "    </tr>\n",
       "    <tr>\n",
       "      <th>2727</th>\n",
       "      <td>15156.62</td>\n",
       "      <td>15435.01</td>\n",
       "      <td>14579.71</td>\n",
       "      <td>14754.09</td>\n",
       "      <td>1514937600</td>\n",
       "      <td>106543.39</td>\n",
       "      <td>1.604207e+09</td>\n",
       "      <td>2018-01-02 16:00:00</td>\n",
       "      <td>-402.53</td>\n",
       "      <td>-2.728260</td>\n",
       "      <td>2018-01-02</td>\n",
       "    </tr>\n",
       "    <tr>\n",
       "      <th>2728</th>\n",
       "      <td>15180.08</td>\n",
       "      <td>15408.66</td>\n",
       "      <td>14244.67</td>\n",
       "      <td>15156.49</td>\n",
       "      <td>1515024000</td>\n",
       "      <td>110968.82</td>\n",
       "      <td>1.656715e+09</td>\n",
       "      <td>2018-01-03 16:00:00</td>\n",
       "      <td>-23.59</td>\n",
       "      <td>-0.155643</td>\n",
       "      <td>2018-01-03</td>\n",
       "    </tr>\n",
       "    <tr>\n",
       "      <th>2729</th>\n",
       "      <td>16954.78</td>\n",
       "      <td>17126.95</td>\n",
       "      <td>14832.36</td>\n",
       "      <td>15180.08</td>\n",
       "      <td>1515110400</td>\n",
       "      <td>141960.42</td>\n",
       "      <td>2.283989e+09</td>\n",
       "      <td>2018-01-04 16:00:00</td>\n",
       "      <td>-1774.70</td>\n",
       "      <td>-11.690979</td>\n",
       "      <td>2018-01-04</td>\n",
       "    </tr>\n",
       "    <tr>\n",
       "      <th>2730</th>\n",
       "      <td>17172.30</td>\n",
       "      <td>17252.85</td>\n",
       "      <td>16286.57</td>\n",
       "      <td>16954.76</td>\n",
       "      <td>1515196800</td>\n",
       "      <td>83927.99</td>\n",
       "      <td>1.412704e+09</td>\n",
       "      <td>2018-01-05 16:00:00</td>\n",
       "      <td>-217.54</td>\n",
       "      <td>-1.283062</td>\n",
       "      <td>2018-01-05</td>\n",
       "    </tr>\n",
       "  </tbody>\n",
       "</table>\n",
       "</div>"
      ],
      "text/plain": [
       "         close      high       low      open        time  volumefrom  \\\n",
       "2726  14754.13  15306.13  12934.16  13444.88  1514851200   137732.17   \n",
       "2727  15156.62  15435.01  14579.71  14754.09  1514937600   106543.39   \n",
       "2728  15180.08  15408.66  14244.67  15156.49  1515024000   110968.82   \n",
       "2729  16954.78  17126.95  14832.36  15180.08  1515110400   141960.42   \n",
       "2730  17172.30  17252.85  16286.57  16954.76  1515196800    83927.99   \n",
       "\n",
       "          volumeto           timestamp   change  percentage_change        date  \n",
       "2726  1.956783e+09 2018-01-01 16:00:00 -1309.25          -9.737908  2018-01-01  \n",
       "2727  1.604207e+09 2018-01-02 16:00:00  -402.53          -2.728260  2018-01-02  \n",
       "2728  1.656715e+09 2018-01-03 16:00:00   -23.59          -0.155643  2018-01-03  \n",
       "2729  2.283989e+09 2018-01-04 16:00:00 -1774.70         -11.690979  2018-01-04  \n",
       "2730  1.412704e+09 2018-01-05 16:00:00  -217.54          -1.283062  2018-01-05  "
      ]
     },
     "execution_count": 84,
     "metadata": {},
     "output_type": "execute_result"
    }
   ],
   "source": [
    "df_jan['date'] = pd.to_datetime(df_jan['timestamp']).dt.date\n",
    "df_jan.head()"
   ]
  },
  {
   "cell_type": "code",
   "execution_count": null,
   "metadata": {},
   "outputs": [],
   "source": []
  },
  {
   "cell_type": "code",
   "execution_count": 85,
   "metadata": {},
   "outputs": [
    {
     "data": {
      "image/png": "[encoded data removed]",
      "text/plain": [
       "<matplotlib.figure.Figure at 0x2a9957333c8>"
      ]
     },
     "metadata": {},
     "output_type": "display_data"
    }
   ],
   "source": [
    "#plt.plot(df.timestamp, df.close)\n",
    "plt.bar(df_jan.timestamp, df_jan.percentage_change)\n",
    "plt.title(\"31 Days Closing Price of BitCoin\")\n",
    "plt.xticks(rotation=90)\n",
    "plt.savefig('BTC_price_January.png',dpi=300)"
   ]
  },
  {
   "cell_type": "code",
   "execution_count": 86,
   "metadata": {},
   "outputs": [],
   "source": [
    "df_jan_bitcoin_frame2 = pd.DataFrame(df_jan.groupby(['date'])['percentage_change'].mean().reset_index())"
   ]
  },
  {
   "cell_type": "code",
   "execution_count": 87,
   "metadata": {},
   "outputs": [
    {
     "data": {
      "text/html": [
       "<div>\n",
       "<style scoped>\n",
       "    .dataframe tbody tr th:only-of-type {\n",
       "        vertical-align: middle;\n",
       "    }\n",
       "\n",
       "    .dataframe tbody tr th {\n",
       "        vertical-align: top;\n",
       "    }\n",
       "\n",
       "    .dataframe thead th {\n",
       "        text-align: right;\n",
       "    }\n",
       "</style>\n",
       "<table border=\"1\" class=\"dataframe\">\n",
       "  <thead>\n",
       "    <tr style=\"text-align: right;\">\n",
       "      <th></th>\n",
       "      <th>date</th>\n",
       "      <th>percentage_change</th>\n",
       "    </tr>\n",
       "  </thead>\n",
       "  <tbody>\n",
       "    <tr>\n",
       "      <th>0</th>\n",
       "      <td>2018-01-01</td>\n",
       "      <td>-9.737908</td>\n",
       "    </tr>\n",
       "    <tr>\n",
       "      <th>1</th>\n",
       "      <td>2018-01-02</td>\n",
       "      <td>-2.728260</td>\n",
       "    </tr>\n",
       "    <tr>\n",
       "      <th>2</th>\n",
       "      <td>2018-01-03</td>\n",
       "      <td>-0.155643</td>\n",
       "    </tr>\n",
       "    <tr>\n",
       "      <th>3</th>\n",
       "      <td>2018-01-04</td>\n",
       "      <td>-11.690979</td>\n",
       "    </tr>\n",
       "    <tr>\n",
       "      <th>4</th>\n",
       "      <td>2018-01-05</td>\n",
       "      <td>-1.283062</td>\n",
       "    </tr>\n",
       "  </tbody>\n",
       "</table>\n",
       "</div>"
      ],
      "text/plain": [
       "         date  percentage_change\n",
       "0  2018-01-01          -9.737908\n",
       "1  2018-01-02          -2.728260\n",
       "2  2018-01-03          -0.155643\n",
       "3  2018-01-04         -11.690979\n",
       "4  2018-01-05          -1.283062"
      ]
     },
     "execution_count": 87,
     "metadata": {},
     "output_type": "execute_result"
    }
   ],
   "source": [
    "df_jan_bitcoin_frame2.head()"
   ]
  },
  {
   "cell_type": "code",
   "execution_count": null,
   "metadata": {},
   "outputs": [],
   "source": [
    "# merging the data frames "
   ]
  },
  {
   "cell_type": "code",
   "execution_count": 88,
   "metadata": {},
   "outputs": [],
   "source": [
    "combined_df = pd.merge(df3_tweeter_data, df_jan_bitcoin_frame2, how=\"outer\", on=\"date\")"
   ]
  },
  {
   "cell_type": "code",
   "execution_count": 90,
   "metadata": {},
   "outputs": [
    {
     "data": {
      "text/html": [
       "<div>\n",
       "<style scoped>\n",
       "    .dataframe tbody tr th:only-of-type {\n",
       "        vertical-align: middle;\n",
       "    }\n",
       "\n",
       "    .dataframe tbody tr th {\n",
       "        vertical-align: top;\n",
       "    }\n",
       "\n",
       "    .dataframe thead th {\n",
       "        text-align: right;\n",
       "    }\n",
       "</style>\n",
       "<table border=\"1\" class=\"dataframe\">\n",
       "  <thead>\n",
       "    <tr style=\"text-align: right;\">\n",
       "      <th></th>\n",
       "      <th>date</th>\n",
       "      <th>Compound_score</th>\n",
       "      <th>percentage_change</th>\n",
       "    </tr>\n",
       "  </thead>\n",
       "  <tbody>\n",
       "    <tr>\n",
       "      <th>0</th>\n",
       "      <td>2018-01-01</td>\n",
       "      <td>0.048901</td>\n",
       "      <td>-9.737908</td>\n",
       "    </tr>\n",
       "    <tr>\n",
       "      <th>1</th>\n",
       "      <td>2018-01-02</td>\n",
       "      <td>0.088920</td>\n",
       "      <td>-2.728260</td>\n",
       "    </tr>\n",
       "    <tr>\n",
       "      <th>2</th>\n",
       "      <td>2018-01-03</td>\n",
       "      <td>0.055328</td>\n",
       "      <td>-0.155643</td>\n",
       "    </tr>\n",
       "    <tr>\n",
       "      <th>3</th>\n",
       "      <td>2018-01-04</td>\n",
       "      <td>0.065462</td>\n",
       "      <td>-11.690979</td>\n",
       "    </tr>\n",
       "    <tr>\n",
       "      <th>4</th>\n",
       "      <td>2018-01-05</td>\n",
       "      <td>0.062515</td>\n",
       "      <td>-1.283062</td>\n",
       "    </tr>\n",
       "  </tbody>\n",
       "</table>\n",
       "</div>"
      ],
      "text/plain": [
       "         date  Compound_score  percentage_change\n",
       "0  2018-01-01        0.048901          -9.737908\n",
       "1  2018-01-02        0.088920          -2.728260\n",
       "2  2018-01-03        0.055328          -0.155643\n",
       "3  2018-01-04        0.065462         -11.690979\n",
       "4  2018-01-05        0.062515          -1.283062"
      ]
     },
     "execution_count": 90,
     "metadata": {},
     "output_type": "execute_result"
    }
   ],
   "source": [
    "combined_df.head()"
   ]
  },
  {
   "cell_type": "code",
   "execution_count": 96,
   "metadata": {},
   "outputs": [],
   "source": [
    "# Finding the corelation"
   ]
  },
  {
   "cell_type": "code",
   "execution_count": 119,
   "metadata": {},
   "outputs": [
    {
     "data": {
      "text/plain": [
       "-0.015910278909093075"
      ]
     },
     "execution_count": 119,
     "metadata": {},
     "output_type": "execute_result"
    }
   ],
   "source": [
    "combined_df['Compound_score'].corr(combined_df['percentage_change'])"
   ]
  },
  {
   "cell_type": "code",
   "execution_count": 100,
   "metadata": {},
   "outputs": [
    {
     "data": {
      "text/html": [
       "<div>\n",
       "<style scoped>\n",
       "    .dataframe tbody tr th:only-of-type {\n",
       "        vertical-align: middle;\n",
       "    }\n",
       "\n",
       "    .dataframe tbody tr th {\n",
       "        vertical-align: top;\n",
       "    }\n",
       "\n",
       "    .dataframe thead th {\n",
       "        text-align: right;\n",
       "    }\n",
       "</style>\n",
       "<table border=\"1\" class=\"dataframe\">\n",
       "  <thead>\n",
       "    <tr style=\"text-align: right;\">\n",
       "      <th></th>\n",
       "      <th>Compound_score</th>\n",
       "      <th>percentage_change</th>\n",
       "    </tr>\n",
       "  </thead>\n",
       "  <tbody>\n",
       "    <tr>\n",
       "      <th>Compound_score</th>\n",
       "      <td>1.00000</td>\n",
       "      <td>-0.01591</td>\n",
       "    </tr>\n",
       "    <tr>\n",
       "      <th>percentage_change</th>\n",
       "      <td>-0.01591</td>\n",
       "      <td>1.00000</td>\n",
       "    </tr>\n",
       "  </tbody>\n",
       "</table>\n",
       "</div>"
      ],
      "text/plain": [
       "                   Compound_score  percentage_change\n",
       "Compound_score            1.00000           -0.01591\n",
       "percentage_change        -0.01591            1.00000"
      ]
     },
     "execution_count": 100,
     "metadata": {},
     "output_type": "execute_result"
    }
   ],
   "source": [
    "combined_df.corr()"
   ]
  },
  {
   "cell_type": "code",
   "execution_count": 101,
   "metadata": {},
   "outputs": [
    {
     "data": {
      "text/html": [
       "<div>\n",
       "<style scoped>\n",
       "    .dataframe tbody tr th:only-of-type {\n",
       "        vertical-align: middle;\n",
       "    }\n",
       "\n",
       "    .dataframe tbody tr th {\n",
       "        vertical-align: top;\n",
       "    }\n",
       "\n",
       "    .dataframe thead th {\n",
       "        text-align: right;\n",
       "    }\n",
       "</style>\n",
       "<table border=\"1\" class=\"dataframe\">\n",
       "  <thead>\n",
       "    <tr style=\"text-align: right;\">\n",
       "      <th></th>\n",
       "      <th>date</th>\n",
       "      <th>Compound_score</th>\n",
       "      <th>percentage_change</th>\n",
       "    </tr>\n",
       "  </thead>\n",
       "  <tbody>\n",
       "    <tr>\n",
       "      <th>0</th>\n",
       "      <td>2018-01-01</td>\n",
       "      <td>0.048901</td>\n",
       "      <td>-9.737908</td>\n",
       "    </tr>\n",
       "    <tr>\n",
       "      <th>1</th>\n",
       "      <td>2018-01-02</td>\n",
       "      <td>0.088920</td>\n",
       "      <td>-2.728260</td>\n",
       "    </tr>\n",
       "    <tr>\n",
       "      <th>2</th>\n",
       "      <td>2018-01-03</td>\n",
       "      <td>0.055328</td>\n",
       "      <td>-0.155643</td>\n",
       "    </tr>\n",
       "    <tr>\n",
       "      <th>3</th>\n",
       "      <td>2018-01-04</td>\n",
       "      <td>0.065462</td>\n",
       "      <td>-11.690979</td>\n",
       "    </tr>\n",
       "    <tr>\n",
       "      <th>4</th>\n",
       "      <td>2018-01-05</td>\n",
       "      <td>0.062515</td>\n",
       "      <td>-1.283062</td>\n",
       "    </tr>\n",
       "  </tbody>\n",
       "</table>\n",
       "</div>"
      ],
      "text/plain": [
       "         date  Compound_score  percentage_change\n",
       "0  2018-01-01        0.048901          -9.737908\n",
       "1  2018-01-02        0.088920          -2.728260\n",
       "2  2018-01-03        0.055328          -0.155643\n",
       "3  2018-01-04        0.065462         -11.690979\n",
       "4  2018-01-05        0.062515          -1.283062"
      ]
     },
     "execution_count": 101,
     "metadata": {},
     "output_type": "execute_result"
    }
   ],
   "source": [
    "combined_df.head()"
   ]
  },
  {
   "cell_type": "code",
   "execution_count": 124,
   "metadata": {},
   "outputs": [
    {
     "data": {
      "image/png": "[encoded data removed]",
      "text/plain": [
       "<matplotlib.figure.Figure at 0x2a99a91af60>"
      ]
     },
     "metadata": {},
     "output_type": "display_data"
    }
   ],
   "source": [
    "combined_df.plot(x='Compound_score', y='percentage_change')\n",
    "combined_df[\"Compound_score_100\"] = combined_df[\"Compound_score\"]*100 "
   ]
  },
  {
   "cell_type": "code",
   "execution_count": 120,
   "metadata": {},
   "outputs": [
    {
     "data": {
      "image/png": "[encoded data removed]",
      "text/plain": [
       "<matplotlib.figure.Figure at 0x2a99a9d1198>"
      ]
     },
     "metadata": {},
     "output_type": "display_data"
    }
   ],
   "source": [
    "fig = plt.figure()\n",
    "ax = plt.subplot(111)\n",
    "combined_df['Compound_score_100'].plot(ax=ax)\n",
    "combined_df['percentage_change'].plot(ax=ax)\n",
    "plt.legend()\n",
    "plt.savefig('Corelation',dpi=300)\n"
   ]
  },
  {
   "cell_type": "code",
   "execution_count": null,
   "metadata": {},
   "outputs": [],
   "source": []
  },
  {
   "cell_type": "code",
   "execution_count": null,
   "metadata": {},
   "outputs": [],
   "source": []
  },
  {
   "cell_type": "code",
   "execution_count": null,
   "metadata": {},
   "outputs": [],
   "source": []
  },
  {
   "cell_type": "code",
   "execution_count": null,
   "metadata": {},
   "outputs": [],
   "source": []
  },
  {
   "cell_type": "code",
   "execution_count": null,
   "metadata": {},
   "outputs": [],
   "source": []
  },
  {
   "cell_type": "code",
   "execution_count": null,
   "metadata": {},
   "outputs": [],
   "source": []
  },
  {
   "cell_type": "code",
   "execution_count": 9,
   "metadata": {},
   "outputs": [
    {
     "name": "stderr",
     "output_type": "stream",
     "text": [
      "C:\\Users\\hbhanushali\\AppData\\Local\\Continuum\\anaconda3\\lib\\site-packages\\ipykernel_launcher.py:13: SettingWithCopyWarning: \n",
      "A value is trying to be set on a copy of a slice from a DataFrame.\n",
      "Try using .loc[row_indexer,col_indexer] = value instead\n",
      "\n",
      "See the caveats in the documentation: http://pandas.pydata.org/pandas-docs/stable/indexing.html#indexing-view-versus-copy\n",
      "  del sys.path[0]\n"
     ]
    }
   ],
   "source": [
    "# wordlist=pd.DataFrame();\n",
    "\n",
    "# polarity=[]\n",
    "# subj=[]\n",
    "\n",
    "\n",
    "# def sentiment_calc(text):\n",
    "#     try:\n",
    "#         return TextBlob(text).sentiment\n",
    "#     except:\n",
    "#         return None\n",
    "\n",
    "# df2_tweeter_data['sentiment'] = df2_tweeter_data['text'].apply(sentiment_calc)\n",
    "# # for t in df2_tweeter_data[\"text\"]:\n",
    "# #     tx= TextBlob(t)\n",
    "# #     polarity.append(tx.sentiment.polarity)\n",
    "# #     subj.append(tx.sentiment.subjectivity)\n",
    "\n",
    "# # poltweet= pd.DataFrame({'polarity':polarity,'subjectivity':subj})\n",
    "# # poltweet.polarity.plot(title='Polarity')\n",
    "# # plt.show()"
   ]
  },
  {
   "cell_type": "code",
   "execution_count": null,
   "metadata": {},
   "outputs": [],
   "source": []
  },
  {
   "cell_type": "code",
   "execution_count": null,
   "metadata": {},
   "outputs": [],
   "source": []
  },
  {
   "cell_type": "code",
   "execution_count": 30,
   "metadata": {},
   "outputs": [
    {
     "data": {
      "text/html": [
       "<div>\n",
       "<style scoped>\n",
       "    .dataframe tbody tr th:only-of-type {\n",
       "        vertical-align: middle;\n",
       "    }\n",
       "\n",
       "    .dataframe tbody tr th {\n",
       "        vertical-align: top;\n",
       "    }\n",
       "\n",
       "    .dataframe thead th {\n",
       "        text-align: right;\n",
       "    }\n",
       "</style>\n",
       "<table border=\"1\" class=\"dataframe\">\n",
       "  <thead>\n",
       "    <tr style=\"text-align: right;\">\n",
       "      <th></th>\n",
       "      <th>date</th>\n",
       "      <th>text</th>\n",
       "      <th>username</th>\n",
       "      <th>keyword</th>\n",
       "      <th>sentiment</th>\n",
       "    </tr>\n",
       "  </thead>\n",
       "  <tbody>\n",
       "    <tr>\n",
       "      <th>0</th>\n",
       "      <td>2018-01-29 15:59:59</td>\n",
       "      <td>Which universities would you like to work with...</td>\n",
       "      <td>OpenEthereum</td>\n",
       "      <td>btc</td>\n",
       "      <td>(0.0, 0.0)</td>\n",
       "    </tr>\n",
       "    <tr>\n",
       "      <th>1</th>\n",
       "      <td>2018-01-29 15:59:58</td>\n",
       "      <td>El Fabuloso Mundo de las #Criptomonedas #Bitco...</td>\n",
       "      <td>coincox</td>\n",
       "      <td>btc</td>\n",
       "      <td>(0.0, 0.0)</td>\n",
       "    </tr>\n",
       "    <tr>\n",
       "      <th>2</th>\n",
       "      <td>2018-01-29 15:59:55</td>\n",
       "      <td>Porque Podemos Fabricar Bitcoin con la mineria...</td>\n",
       "      <td>luisgodelavega</td>\n",
       "      <td>btc</td>\n",
       "      <td>(0.0, 0.0)</td>\n",
       "    </tr>\n",
       "    <tr>\n",
       "      <th>3</th>\n",
       "      <td>2018-01-29 15:59:54</td>\n",
       "      <td>Sign up for Robinhood to invest in Bitcoin and...</td>\n",
       "      <td>devdathug</td>\n",
       "      <td>btc</td>\n",
       "      <td>(0.5, 0.8)</td>\n",
       "    </tr>\n",
       "    <tr>\n",
       "      <th>4</th>\n",
       "      <td>2018-01-29 15:59:52</td>\n",
       "      <td>Bitcoin</td>\n",
       "      <td>RaenPiedmont</td>\n",
       "      <td>btc</td>\n",
       "      <td>(0.0, 0.0)</td>\n",
       "    </tr>\n",
       "  </tbody>\n",
       "</table>\n",
       "</div>"
      ],
      "text/plain": [
       "                  date                                               text  \\\n",
       "0  2018-01-29 15:59:59  Which universities would you like to work with...   \n",
       "1  2018-01-29 15:59:58  El Fabuloso Mundo de las #Criptomonedas #Bitco...   \n",
       "2  2018-01-29 15:59:55  Porque Podemos Fabricar Bitcoin con la mineria...   \n",
       "3  2018-01-29 15:59:54  Sign up for Robinhood to invest in Bitcoin and...   \n",
       "4  2018-01-29 15:59:52                                            Bitcoin   \n",
       "\n",
       "         username keyword   sentiment  \n",
       "0    OpenEthereum     btc  (0.0, 0.0)  \n",
       "1         coincox     btc  (0.0, 0.0)  \n",
       "2  luisgodelavega     btc  (0.0, 0.0)  \n",
       "3       devdathug     btc  (0.5, 0.8)  \n",
       "4    RaenPiedmont     btc  (0.0, 0.0)  "
      ]
     },
     "execution_count": 30,
     "metadata": {},
     "output_type": "execute_result"
    }
   ],
   "source": [
    "df2_tweeter_data.head(5)"
   ]
  },
  {
   "cell_type": "code",
   "execution_count": null,
   "metadata": {},
   "outputs": [],
   "source": []
  },
  {
   "cell_type": "code",
   "execution_count": null,
   "metadata": {},
   "outputs": [],
   "source": []
  }
 ],
 "metadata": {
  "kernelspec": {
   "display_name": "Python (PythonData)",
   "language": "python",
   "name": "pythondata"
  },
  "language_info": {
   "codemirror_mode": {
    "name": "ipython",
    "version": 3
   },
   "file_extension": ".py",
   "mimetype": "text/x-python",
   "name": "python",
   "nbconvert_exporter": "python",
   "pygments_lexer": "ipython3",
   "version": "3.6.4"
  }
 },
 "nbformat": 4,
 "nbformat_minor": 2
}

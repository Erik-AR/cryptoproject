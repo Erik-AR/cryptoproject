{
 "cells": [
  {
   "cell_type": "code",
   "execution_count": 12,
   "metadata": {},
   "outputs": [],
   "source": [
    "import pandas as pd\n",
    "import logging\n",
    "from pprint import pprint\n",
    "import sys\n",
    "import requests\n",
    "import os\n",
    "import urllib.request\n",
    "import json\n",
    "import numpy as np\n",
    "# Charting\n",
    "import matplotlib.pyplot as plt\n",
    "import matplotlib.dates as mdates\n",
    "from matplotlib.ticker import FuncFormatter,ScalarFormatter\n",
    "from matplotlib.lines import Line2D\n",
    "from matplotlib.patches import Rectangle, Patch\n",
    "from PIL import Image"
   ]
  },
  {
   "cell_type": "code",
   "execution_count": 14,
   "metadata": {},
   "outputs": [],
   "source": [
    "is_billions = True\n",
    "if is_billions == True:\n",
    "\tdivide_by = 10000000000\n",
    "\ttitle = 'Billions $'\n",
    "else:\n",
    "\tdivide_by = 10000000\n",
    "\ttitle = 'Millions $'"
   ]
  },
  {
   "cell_type": "code",
   "execution_count": 21,
   "metadata": {},
   "outputs": [
    {
     "name": "stdout",
     "output_type": "stream",
     "text": [
      "      symbol rank  market_cap_usd    volume\n",
      "BTC      BTC    1       11.644367  0.397222\n",
      "ETH      ETH    2        3.765240  0.099569\n",
      "XRP      XRP    3        1.913700  0.024594\n",
      "BCH      BCH    4        1.078592  0.024753\n",
      "LTC      LTC    5        0.659857  0.024835\n",
      "EOS      EOS    6        0.460464  0.040572\n",
      "ADA      ADA    7        0.383972  0.005208\n",
      "XLM      XLM    8        0.375009  0.003196\n",
      "NEO      NEO    9        0.302991  0.005119\n",
      "MIOTA  MIOTA   10        0.268908  0.001272\n",
      "XMR      XMR   11        0.266977  0.003863\n",
      "DASH    DASH   12        0.241315  0.006759\n",
      "TRX      TRX   13        0.239628  0.040898\n",
      "USDT    USDT   14        0.228713  0.134141\n",
      "XEM      XEM   15        0.201785  0.001515\n"
     ]
    },
    {
     "data": {
      "text/plain": [
       "pandas.core.frame.DataFrame"
      ]
     },
     "execution_count": 21,
     "metadata": {},
     "output_type": "execute_result"
    }
   ],
   "source": [
    "# API URL request\n",
    "url = 'https://api.coinmarketcap.com/v1/ticker/?limit=15'\n",
    "request = json.loads(requests.get(url).text)\n",
    "\n",
    "# request.keys()\n",
    "\n",
    "mempool = pd.DataFrame(columns=('symbol','rank','market_cap_usd','volume'))\n",
    "\n",
    "for i in request:\n",
    "\tmempool.loc[i['symbol']] = [i['symbol'],i['rank'],(float(i['market_cap_usd'])/divide_by),(float(i['24h_volume_usd'])/divide_by)]\n",
    "\n",
    "\n",
    "# # rects1 = ax.bar(mempool.symbol.values, mempool.market_cap_usd.values, width, color='r', yerr=mempool.market_cap_usd.values)\n",
    "\n",
    "\n",
    "\n",
    "\n",
    "pprint(mempool)\n",
    "type(mempool)"
   ]
  },
  {
   "cell_type": "code",
   "execution_count": 38,
   "metadata": {},
   "outputs": [
    {
     "data": {
      "image/png": "[encoded data removed]",
      "text/plain": [
       "<matplotlib.figure.Figure at 0x269ee226630>"
      ]
     },
     "metadata": {},
     "output_type": "display_data"
    }
   ],
   "source": [
    "plt.bar(mempool['symbol'], mempool['market_cap_usd'])\n",
    "plt.xticks(rotation=90)\n",
    "plt.title(\"Bitcoin as leader\")\n",
    "plt.savefig('fig2.png', dpi = 300)"
   ]
  },
  {
   "cell_type": "code",
   "execution_count": 39,
   "metadata": {},
   "outputs": [],
   "source": []
  }
 ],
 "metadata": {
  "kernelspec": {
   "display_name": "Python (PythonData)",
   "language": "python",
   "name": "pythondata"
  },
  "language_info": {
   "codemirror_mode": {
    "name": "ipython",
    "version": 3
   },
   "file_extension": ".py",
   "mimetype": "text/x-python",
   "name": "python",
   "nbconvert_exporter": "python",
   "pygments_lexer": "ipython3",
   "version": "3.6.4"
  }
 },
 "nbformat": 4,
 "nbformat_minor": 2
}
